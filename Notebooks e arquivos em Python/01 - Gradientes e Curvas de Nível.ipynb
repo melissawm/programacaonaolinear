{
 "cells": [
  {
   "cell_type": "markdown",
   "metadata": {},
   "source": [
    "# Curvas de Nível\n",
    "\n",
    "Quando lidamos com funções de duas variáveis, uma ferramenta importante para entender o comportamento da função são as suas curvas de nível.\n",
    "\n",
    "Seja $D\\subseteq \\mathbb{R}^2$. Dada uma função $f:D \\to \\mathbb{R}$, uma curva de nível de $f$ é dada por todos os pontos $(x,y)$ no domínio $D$ de $f$ cuja imagem por $f$ é $k$:\n",
    "$$C_{k}=\\{(x,y)\\in D\\subseteq {\\mathbb{R}^{2}}:f(x,y)=k\\}.$$\n",
    "Assim, as curvas de nível são parametrizadas por $k$, e podem ser visualizadas através de um gráfico plano."
   ]
  },
  {
   "cell_type": "markdown",
   "metadata": {},
   "source": [
    "## Exemplo.\n",
    "\n",
    "Considere a função\n",
    "$$f(x,y) = x^2+y^2.$$\n",
    "O gráfico desta função na região $[-5,5]\\times [-5,5]$ é "
   ]
  },
  {
   "cell_type": "code",
   "execution_count": null,
   "metadata": {},
   "outputs": [],
   "source": [
    "import matplotlib.pyplot as plt\n",
    "from mpl_toolkits.mplot3d import Axes3D\n",
    "from matplotlib import cm\n",
    "from matplotlib.ticker import LinearLocator, FormatStrFormatter\n",
    "import numpy as np\n",
    "\n",
    "fig = plt.figure()\n",
    "ax = fig.add_subplot(111, projection='3d')\n",
    "\n",
    "# \n",
    "X = np.arange(-5, 5, 0.25)\n",
    "Y = np.arange(-5, 5, 0.25)\n",
    "X, Y = np.meshgrid(X, Y)\n",
    "Z = X**2 + Y**2\n",
    "\n",
    "surf = ax.plot_surface(X, Y, Z, cmap=cm.viridis,\n",
    "                       antialiased=False)\n",
    "\n",
    "# Customize the z axis.\n",
    "#ax.set_zlim(-1.01, 1.01)\n",
    "#ax.zaxis.set_major_locator(LinearLocator(10))\n",
    "#ax.zaxis.set_major_formatter(FormatStrFormatter('%.02f'))\n",
    "\n",
    "# Add a color bar which maps values to colors.\n",
    "fig.colorbar(surf, shrink=0.5, aspect=5)\n",
    "\n",
    "plt.show()"
   ]
  },
  {
   "cell_type": "markdown",
   "metadata": {},
   "source": [
    "Suas curvas de nível podem ser vistas assim:"
   ]
  },
  {
   "cell_type": "code",
   "execution_count": null,
   "metadata": {},
   "outputs": [],
   "source": [
    "fig = plt.figure()\n",
    "ax = fig.add_subplot(111, projection='3d')\n",
    "cset = ax.contour(X, Y, Z, 10, cmap=cm.viridis)\n",
    "plt.show()"
   ]
  },
  {
   "cell_type": "markdown",
   "metadata": {},
   "source": [
    "Ou ainda, projetadas no plano $z=0$:"
   ]
  },
  {
   "cell_type": "code",
   "execution_count": null,
   "metadata": {},
   "outputs": [],
   "source": [
    "fig = plt.figure()\n",
    "ax = fig.gca(projection='3d')\n",
    "ax.plot_surface(X, Y, Z, alpha=0.3)\n",
    "cset = ax.contour(X, Y, Z, 10, zdir='z', offset=0, cmap=cm.viridis)\n",
    "\n",
    "ax.set_xlabel('X')\n",
    "ax.set_ylabel('Y')\n",
    "ax.set_zlabel('Z')\n",
    "\n",
    "plt.show()"
   ]
  },
  {
   "cell_type": "markdown",
   "metadata": {},
   "source": [
    "Observe agora o gradiente dessa função calculado em diversos pontos. Sabemos que\n",
    "$$\\nabla f(x,y) = (2x, 2y) = 2(x,y).$$\n",
    "Portanto, podemos calcular esse gradiente em qualquer ponto do domínio de $f$. Observe:"
   ]
  },
  {
   "cell_type": "code",
   "execution_count": null,
   "metadata": {},
   "outputs": [],
   "source": [
    "fig = plt.figure()\n",
    "ax = fig.add_subplot(111)\n",
    "levels = [0, 1, 2, 4, 8, 12, 16, 20, 24, 28, 32]\n",
    "cset = ax.contour(X, Y, Z, levels, cmap=cm.viridis)\n",
    "ax.clabel(cset, fontsize=9, inline=1)\n",
    "ax.set_aspect('equal')\n",
    "\n",
    "# O gradiente de f em x=2, y=2 é o vetor (4,4):\n",
    "grad = [4,4]\n",
    "norma_grad = np.sqrt(grad[0]**2+grad[1]**2)\n",
    "p = grad/norma_grad\n",
    "plt.plot([2,2+p[0]], [2,2+p[1]], 'r-', linewidth=2)\n",
    "\n",
    "# O gradiente de f em x=-1, y=1 é o vetor (-2,2):\n",
    "grad = [-2,2]\n",
    "norma_grad = np.sqrt(grad[0]**2+grad[1]**2)\n",
    "p = grad/norma_grad\n",
    "plt.plot([-1,-1+p[0]], [1,1+p[1]], 'b-', linewidth=2)\n",
    "\n",
    "plt.show()"
   ]
  },
  {
   "cell_type": "markdown",
   "metadata": {},
   "source": [
    "Observe: **O gradiente é perpendicular às curvas de nível da função.**"
   ]
  },
  {
   "cell_type": "markdown",
   "metadata": {},
   "source": [
    "## Exemplo.\n",
    "\n",
    "Considere a função *Rosenbrock* dada por\n",
    "$$f(x,y)=(1-x)^2+10(y-x^2)^2.$$"
   ]
  },
  {
   "cell_type": "code",
   "execution_count": null,
   "metadata": {},
   "outputs": [],
   "source": [
    "def rosenbrock(x,y):\n",
    "    return (1-x)**2+10*(y-x**2)**2"
   ]
  },
  {
   "cell_type": "code",
   "execution_count": null,
   "metadata": {},
   "outputs": [],
   "source": [
    "fig = plt.figure()\n",
    "ax = fig.add_subplot(111, projection='3d')\n",
    "\n",
    "x = np.linspace(-2, 2, 100)\n",
    "y = np.linspace(-2, 2, 100)\n",
    "X, Y = np.meshgrid(x, y)\n",
    "R = rosenbrock(X, Y)\n",
    "surf = ax.plot_surface(X, Y, R, cmap=cm.viridis, alpha=0.8)\n",
    "\n",
    "# Add a color bar which maps values to colors.\n",
    "fig.colorbar(surf, shrink=0.5, aspect=5)\n",
    "\n",
    "plt.show()"
   ]
  },
  {
   "cell_type": "code",
   "execution_count": null,
   "metadata": {},
   "outputs": [],
   "source": [
    "fig = plt.figure()\n",
    "ax = fig.add_subplot(111)\n",
    "levels = [0, 0.1, 0.5, 1, 2, 5, 10, 20, 30, 50]\n",
    "cset = ax.contour(X, Y, R, levels, cmap=cm.viridis)\n",
    "ax.clabel(cset, fontsize=9, inline=1)\n",
    "plt.show()"
   ]
  },
  {
   "cell_type": "markdown",
   "metadata": {},
   "source": [
    "Mais uma vez, observe que o gradiente dessa função é dado por\n",
    "$$\\nabla f(x, y) = \\left( 2+2x-40x(y-x^2), 20(y-x^2)\\right).$$"
   ]
  },
  {
   "cell_type": "code",
   "execution_count": null,
   "metadata": {},
   "outputs": [],
   "source": [
    "from sympy import symbols, diff, evalf\n",
    "x,y = symbols('x y')\n",
    "expr = (1-x)**2+10*(y-x**2)**2\n",
    "gradiente_rosenbrock = [diff(expr, x), diff(expr, y)]"
   ]
  },
  {
   "cell_type": "markdown",
   "metadata": {},
   "source": [
    "Vamos calcular o gradiente de $f$ em alguns pontos:"
   ]
  },
  {
   "cell_type": "code",
   "execution_count": null,
   "metadata": {},
   "outputs": [],
   "source": [
    "grad = [expr.subs([(x, 0), (y, 0)]) for expr in gradiente_rosenbrock]\n",
    "print(grad)"
   ]
  },
  {
   "cell_type": "code",
   "execution_count": null,
   "metadata": {},
   "outputs": [],
   "source": [
    "grad = [expr.subs([(x, -0.3), (y, -0.1)]) for expr in gradiente_rosenbrock]\n",
    "print(grad)"
   ]
  },
  {
   "cell_type": "code",
   "execution_count": null,
   "metadata": {},
   "outputs": [],
   "source": [
    "grad = [expr.subs([(x, 1), (y, 1)]) for expr in gradiente_rosenbrock]\n",
    "print(grad)"
   ]
  },
  {
   "cell_type": "markdown",
   "metadata": {},
   "source": [
    "Vejamos no gráfico:"
   ]
  },
  {
   "cell_type": "code",
   "execution_count": null,
   "metadata": {},
   "outputs": [],
   "source": [
    "fig = plt.figure()\n",
    "ax = fig.add_subplot(111)\n",
    "\n",
    "x = np.linspace(-2, 2, 100)\n",
    "y = np.linspace(-2, 2, 100)\n",
    "X, Y = np.meshgrid(x, y)\n",
    "R = rosenbrock(X, Y)\n",
    "\n",
    "levels = [0, 0.1, 0.5, 1, 2, 5, 10, 20, 30, 50]\n",
    "cset = ax.contour(X, Y, R, levels, cmap=cm.viridis)\n",
    "\n",
    "# O gradiente de f em x=0, y=0 é (2,0):\n",
    "grad = [2,0]\n",
    "norma_grad = np.sqrt(grad[0]**2+grad[1]**2)\n",
    "p = grad/norma_grad\n",
    "ax.plot([0,0+p[0]], [0,0+p[1]], 'r-', linewidth=2)\n",
    "\n",
    "# O gradiente de f em x=-0.3, y=-0.1 é (-4.88,-3.8)\n",
    "grad = [-4.88,-3.8]\n",
    "norma_grad = np.sqrt(grad[0]**2+grad[1]**2)\n",
    "p = grad/norma_grad\n",
    "ax.plot([-0.3, -0.3+p[0]], [-0.1,-0.1+p[1]], 'r-', linewidth=2)\n",
    "\n",
    "# O gradiente de f em x=1, y=1 é (0,0)\n",
    "ax.plot([1,1], [1,1], 'r*', linewidth=2)\n",
    "\n",
    "ax.set_xlim([-2,2])\n",
    "ax.set_ylim([-2,2])\n",
    "ax.set_aspect('equal')\n",
    "\n",
    "plt.show()"
   ]
  }
 ],
 "metadata": {
  "kernelspec": {
   "display_name": "Python 3",
   "language": "python",
   "name": "python3"
  },
  "language_info": {
   "codemirror_mode": {
    "name": "ipython",
    "version": 3
   },
   "file_extension": ".py",
   "mimetype": "text/x-python",
   "name": "python",
   "nbconvert_exporter": "python",
   "pygments_lexer": "ipython3",
   "version": "3.7.4"
  }
 },
 "nbformat": 4,
 "nbformat_minor": 4
}
