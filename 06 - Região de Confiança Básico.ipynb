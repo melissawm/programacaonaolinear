{
 "cells": [
  {
   "cell_type": "markdown",
   "metadata": {},
   "source": [
    "# Implementação"
   ]
  },
  {
   "cell_type": "code",
   "execution_count": 10,
   "metadata": {},
   "outputs": [],
   "source": [
    "def cost(x):\n",
    "    # Função de Rosenbrock\n",
    "    f = (1-x[0])**2+10*(x[1]-x[0]**2)**2\n",
    "    return f\n",
    "def grad(x):\n",
    "    g = np.zeros((2,))\n",
    "    g[0] = 2*x[0]-2-40*x[0]*(x[1]-x[0]**2)\n",
    "    g[1] = 20*(x[1]-x[0]**2)\n",
    "    return g\n",
    "def hessian(x):\n",
    "    H = np.zeros((2,2))\n",
    "    H[0,0] = 2-40*(x[1]-x[0]**2)+80*x[0]**2\n",
    "    H[0,1] = -40*x[0]\n",
    "    H[1,0] = H[0,1]\n",
    "    H[1,1] = 20\n",
    "    return H"
   ]
  },
  {
   "cell_type": "markdown",
   "metadata": {},
   "source": [
    "Escolha $x_0$ e as constantes $0<\\eta_1\\leq \\eta_2<1$ e $0<\\gamma_1\\leq \\gamma_2<1$:"
   ]
  },
  {
   "cell_type": "code",
   "execution_count": 11,
   "metadata": {},
   "outputs": [],
   "source": [
    "import numpy as np\n",
    "from scipy.linalg import norm\n",
    "\n",
    "x0 = np.asarray([-1,2])\n",
    "\n",
    "delta0 = 1.0\n",
    "eps = 1e-3\n",
    "\n",
    "eta0 = 0.1\n",
    "eta1 = 0.9\n",
    "\n",
    "gamma1 = 1.75\n",
    "gamma2 = 2.0"
   ]
  },
  {
   "cell_type": "code",
   "execution_count": 12,
   "metadata": {},
   "outputs": [],
   "source": [
    "from moresorensen import ms"
   ]
  },
  {
   "cell_type": "code",
   "execution_count": 13,
   "metadata": {},
   "outputs": [],
   "source": [
    "def btr(x, cost, grad, hessian, delta0, eta0, eta1, eps):\n",
    "    \n",
    "    n = x.shape[0]\n",
    "\n",
    "    f = cost(x)\n",
    "    g = grad(x)\n",
    "    H = hessian(x)\n",
    "    normg = norm(g)\n",
    "    \n",
    "    # Modelo inicial\n",
    "    m = f\n",
    "    norms = 1.\n",
    "    rho = 0.\n",
    "    rhoeps = 1.e-18\n",
    "    delta = delta0\n",
    "    nb_iter = 0\n",
    "    verbose = True\n",
    "    \n",
    "    if verbose:\n",
    "        print(\"==============================\")\n",
    "        print(\"Ponto inicial: {}\".format(x))\n",
    "        print(\"f = {}\".format(f))\n",
    "        print(\"normg = {}\".format(normg))\n",
    "        print(\"delta = {}\".format(delta))\n",
    "    \n",
    "    while ((normg >= eps) and (norms >= 1.0e-10) and (nb_iter <= 2000)):\n",
    "\n",
    "        # 1. Calcular a solução do subproblema\n",
    "        s = ms(g,H,delta)\n",
    "        norms = norm(s)\n",
    "        trial = x+s\n",
    "        \n",
    "        # 2. Calcular a fração rho = ared/pred\n",
    "        fplus = cost(trial)\n",
    "        ared = f - fplus\n",
    "        \n",
    "        pred = -np.dot(g,s) - 0.5*np.dot(s,np.dot(H,s))\n",
    "        mplus = m - pred\n",
    "\n",
    "        # 3. Decidir sobre o passo\n",
    "        if ared < rhoeps and pred < rhoeps:\n",
    "            rho = 1\n",
    "            fplus = np.minimum(f,fplus)\n",
    "        else:\n",
    "            if pred + rhoeps < rhoeps:\n",
    "                rho = 1\n",
    "            else:\n",
    "                rho = (ared + rhoeps) / (pred + rhoeps)\n",
    "\n",
    "        if verbose:\n",
    "            print(\"========= Iteração {} =========\".format(nb_iter))\n",
    "            print(\"f = {}, fplus = {}\".format(f, fplus))\n",
    "            print(\"m = {}, mplus = {}\".format(m,mplus))\n",
    "            print(\"rho = {}\".format(rho))\n",
    "  \n",
    "        if rho >= eta0:\n",
    "            # A iteração foi bem sucedida. Aceite o passo\n",
    "            x = trial\n",
    "            f = fplus\n",
    "            g = grad(x)\n",
    "            normg = norm(g)\n",
    "            H = hessian(x)\n",
    "            m = f\n",
    "            if verbose:\n",
    "                print(\"A iteração foi bem sucedida.\")\n",
    "        else:\n",
    "            print(\"A iteração não foi bem sucedida.\")\n",
    "        \n",
    "        # 4. Atualizar o raio da região de confiança\n",
    "        if rho > eta1:\n",
    "            delta = gamma2*delta\n",
    "        elif rho < eta0:\n",
    "            delta = delta/gamma2\n",
    "       \n",
    "        if verbose:\n",
    "            print(\"x: {}\".format(x))\n",
    "            print(\"f = {}\".format(f))\n",
    "            print(\"normg = {}\".format(normg))\n",
    "            print(\"delta = {}\".format(delta))\n",
    "   \n",
    "        nb_iter += 1\n",
    "        \n",
    "    if normg >= eps:\n",
    "        print(\"+++++++++++++++++++++++++\")\n",
    "        print(\"  NO CONVERGENCE OF BTR  \")\n",
    "        print(\"+++++++++++++++++++++++++\")\n",
    "    else:\n",
    "        print(\"Convergência em {} iterações.\".format(nb_iter))\n",
    "        \n",
    "    return x,f"
   ]
  },
  {
   "cell_type": "code",
   "execution_count": 14,
   "metadata": {},
   "outputs": [
    {
     "name": "stdout",
     "output_type": "stream",
     "text": [
      "==============================\n",
      "Ponto inicial: [-1  2]\n",
      "f = 14\n",
      "normg = 41.182520563948\n",
      "delta = 1.0\n",
      "========= Iteração 0 =========\n",
      "f = 14, fplus = 14.0\n",
      "m = 14, mplus = 14.0\n",
      "rho = 1\n",
      "A iteração foi bem sucedida.\n",
      "x: [-1.  2.]\n",
      "f = 14.0\n",
      "normg = 41.182520563948\n",
      "delta = 2.0\n",
      "+++++++++++++++++++++++++\n",
      "  NO CONVERGENCE OF BTR  \n",
      "+++++++++++++++++++++++++\n"
     ]
    }
   ],
   "source": [
    "x,f = btr(x0, cost, grad, hessian, delta0, eta0, eta1, eps)"
   ]
  },
  {
   "cell_type": "code",
   "execution_count": null,
   "metadata": {},
   "outputs": [],
   "source": []
  }
 ],
 "metadata": {
  "kernelspec": {
   "display_name": "Python 3",
   "language": "python",
   "name": "python3"
  },
  "language_info": {
   "codemirror_mode": {
    "name": "ipython",
    "version": 3
   },
   "file_extension": ".py",
   "mimetype": "text/x-python",
   "name": "python",
   "nbconvert_exporter": "python",
   "pygments_lexer": "ipython3",
   "version": "3.7.4"
  }
 },
 "nbformat": 4,
 "nbformat_minor": 4
}
